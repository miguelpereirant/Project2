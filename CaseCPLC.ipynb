{
 "cells": [
  {
   "cell_type": "code",
   "execution_count": 1,
   "id": "f2194bb1",
   "metadata": {},
   "outputs": [],
   "source": [
    "import pandas as pd \n",
    "import numpy as np\n",
    "import matplotlib.pyplot as plt"
   ]
  },
  {
   "cell_type": "code",
   "execution_count": 2,
   "id": "b199e920",
   "metadata": {},
   "outputs": [],
   "source": [
    "goalscorers = pd.read_csv('goalscorers.csv')\n",
    "results = pd.read_csv('results.csv')\n",
    "shootouts = pd.read_csv('shootouts.csv')"
   ]
  },
  {
   "cell_type": "code",
   "execution_count": 3,
   "id": "830e0146",
   "metadata": {},
   "outputs": [
    {
     "data": {
      "text/html": [
       "<div>\n",
       "<style scoped>\n",
       "    .dataframe tbody tr th:only-of-type {\n",
       "        vertical-align: middle;\n",
       "    }\n",
       "\n",
       "    .dataframe tbody tr th {\n",
       "        vertical-align: top;\n",
       "    }\n",
       "\n",
       "    .dataframe thead th {\n",
       "        text-align: right;\n",
       "    }\n",
       "</style>\n",
       "<table border=\"1\" class=\"dataframe\">\n",
       "  <thead>\n",
       "    <tr style=\"text-align: right;\">\n",
       "      <th></th>\n",
       "      <th>date</th>\n",
       "      <th>home_team</th>\n",
       "      <th>away_team</th>\n",
       "      <th>team</th>\n",
       "      <th>scorer</th>\n",
       "      <th>minute</th>\n",
       "      <th>own_goal</th>\n",
       "      <th>penalty</th>\n",
       "    </tr>\n",
       "  </thead>\n",
       "  <tbody>\n",
       "    <tr>\n",
       "      <th>0</th>\n",
       "      <td>1916-07-02</td>\n",
       "      <td>Chile</td>\n",
       "      <td>Uruguay</td>\n",
       "      <td>Uruguay</td>\n",
       "      <td>José Piendibene</td>\n",
       "      <td>44.0</td>\n",
       "      <td>False</td>\n",
       "      <td>False</td>\n",
       "    </tr>\n",
       "    <tr>\n",
       "      <th>1</th>\n",
       "      <td>1916-07-02</td>\n",
       "      <td>Chile</td>\n",
       "      <td>Uruguay</td>\n",
       "      <td>Uruguay</td>\n",
       "      <td>Isabelino Gradín</td>\n",
       "      <td>55.0</td>\n",
       "      <td>False</td>\n",
       "      <td>False</td>\n",
       "    </tr>\n",
       "    <tr>\n",
       "      <th>2</th>\n",
       "      <td>1916-07-02</td>\n",
       "      <td>Chile</td>\n",
       "      <td>Uruguay</td>\n",
       "      <td>Uruguay</td>\n",
       "      <td>Isabelino Gradín</td>\n",
       "      <td>70.0</td>\n",
       "      <td>False</td>\n",
       "      <td>False</td>\n",
       "    </tr>\n",
       "    <tr>\n",
       "      <th>3</th>\n",
       "      <td>1916-07-02</td>\n",
       "      <td>Chile</td>\n",
       "      <td>Uruguay</td>\n",
       "      <td>Uruguay</td>\n",
       "      <td>José Piendibene</td>\n",
       "      <td>75.0</td>\n",
       "      <td>False</td>\n",
       "      <td>False</td>\n",
       "    </tr>\n",
       "    <tr>\n",
       "      <th>4</th>\n",
       "      <td>1916-07-06</td>\n",
       "      <td>Argentina</td>\n",
       "      <td>Chile</td>\n",
       "      <td>Argentina</td>\n",
       "      <td>Alberto Ohaco</td>\n",
       "      <td>2.0</td>\n",
       "      <td>False</td>\n",
       "      <td>False</td>\n",
       "    </tr>\n",
       "  </tbody>\n",
       "</table>\n",
       "</div>"
      ],
      "text/plain": [
       "         date  home_team away_team       team            scorer  minute  \\\n",
       "0  1916-07-02      Chile   Uruguay    Uruguay   José Piendibene    44.0   \n",
       "1  1916-07-02      Chile   Uruguay    Uruguay  Isabelino Gradín    55.0   \n",
       "2  1916-07-02      Chile   Uruguay    Uruguay  Isabelino Gradín    70.0   \n",
       "3  1916-07-02      Chile   Uruguay    Uruguay   José Piendibene    75.0   \n",
       "4  1916-07-06  Argentina     Chile  Argentina     Alberto Ohaco     2.0   \n",
       "\n",
       "   own_goal  penalty  \n",
       "0     False    False  \n",
       "1     False    False  \n",
       "2     False    False  \n",
       "3     False    False  \n",
       "4     False    False  "
      ]
     },
     "execution_count": 3,
     "metadata": {},
     "output_type": "execute_result"
    }
   ],
   "source": [
    "goalscorers.head()"
   ]
  },
  {
   "cell_type": "code",
   "execution_count": 4,
   "id": "bfc5dce3",
   "metadata": {},
   "outputs": [
    {
     "data": {
      "text/html": [
       "<div>\n",
       "<style scoped>\n",
       "    .dataframe tbody tr th:only-of-type {\n",
       "        vertical-align: middle;\n",
       "    }\n",
       "\n",
       "    .dataframe tbody tr th {\n",
       "        vertical-align: top;\n",
       "    }\n",
       "\n",
       "    .dataframe thead th {\n",
       "        text-align: right;\n",
       "    }\n",
       "</style>\n",
       "<table border=\"1\" class=\"dataframe\">\n",
       "  <thead>\n",
       "    <tr style=\"text-align: right;\">\n",
       "      <th></th>\n",
       "      <th>date</th>\n",
       "      <th>home_team</th>\n",
       "      <th>away_team</th>\n",
       "      <th>home_score</th>\n",
       "      <th>away_score</th>\n",
       "      <th>tournament</th>\n",
       "      <th>city</th>\n",
       "      <th>country</th>\n",
       "      <th>neutral</th>\n",
       "    </tr>\n",
       "  </thead>\n",
       "  <tbody>\n",
       "    <tr>\n",
       "      <th>0</th>\n",
       "      <td>1872-11-30</td>\n",
       "      <td>Scotland</td>\n",
       "      <td>England</td>\n",
       "      <td>0</td>\n",
       "      <td>0</td>\n",
       "      <td>Friendly</td>\n",
       "      <td>Glasgow</td>\n",
       "      <td>Scotland</td>\n",
       "      <td>False</td>\n",
       "    </tr>\n",
       "    <tr>\n",
       "      <th>1</th>\n",
       "      <td>1873-03-08</td>\n",
       "      <td>England</td>\n",
       "      <td>Scotland</td>\n",
       "      <td>4</td>\n",
       "      <td>2</td>\n",
       "      <td>Friendly</td>\n",
       "      <td>London</td>\n",
       "      <td>England</td>\n",
       "      <td>False</td>\n",
       "    </tr>\n",
       "    <tr>\n",
       "      <th>2</th>\n",
       "      <td>1874-03-07</td>\n",
       "      <td>Scotland</td>\n",
       "      <td>England</td>\n",
       "      <td>2</td>\n",
       "      <td>1</td>\n",
       "      <td>Friendly</td>\n",
       "      <td>Glasgow</td>\n",
       "      <td>Scotland</td>\n",
       "      <td>False</td>\n",
       "    </tr>\n",
       "    <tr>\n",
       "      <th>3</th>\n",
       "      <td>1875-03-06</td>\n",
       "      <td>England</td>\n",
       "      <td>Scotland</td>\n",
       "      <td>2</td>\n",
       "      <td>2</td>\n",
       "      <td>Friendly</td>\n",
       "      <td>London</td>\n",
       "      <td>England</td>\n",
       "      <td>False</td>\n",
       "    </tr>\n",
       "    <tr>\n",
       "      <th>4</th>\n",
       "      <td>1876-03-04</td>\n",
       "      <td>Scotland</td>\n",
       "      <td>England</td>\n",
       "      <td>3</td>\n",
       "      <td>0</td>\n",
       "      <td>Friendly</td>\n",
       "      <td>Glasgow</td>\n",
       "      <td>Scotland</td>\n",
       "      <td>False</td>\n",
       "    </tr>\n",
       "  </tbody>\n",
       "</table>\n",
       "</div>"
      ],
      "text/plain": [
       "         date home_team away_team  home_score  away_score tournament     city  \\\n",
       "0  1872-11-30  Scotland   England           0           0   Friendly  Glasgow   \n",
       "1  1873-03-08   England  Scotland           4           2   Friendly   London   \n",
       "2  1874-03-07  Scotland   England           2           1   Friendly  Glasgow   \n",
       "3  1875-03-06   England  Scotland           2           2   Friendly   London   \n",
       "4  1876-03-04  Scotland   England           3           0   Friendly  Glasgow   \n",
       "\n",
       "    country  neutral  \n",
       "0  Scotland    False  \n",
       "1   England    False  \n",
       "2  Scotland    False  \n",
       "3   England    False  \n",
       "4  Scotland    False  "
      ]
     },
     "execution_count": 4,
     "metadata": {},
     "output_type": "execute_result"
    }
   ],
   "source": [
    "results.head()"
   ]
  },
  {
   "cell_type": "code",
   "execution_count": 5,
   "id": "16e606a3",
   "metadata": {},
   "outputs": [
    {
     "data": {
      "text/html": [
       "<div>\n",
       "<style scoped>\n",
       "    .dataframe tbody tr th:only-of-type {\n",
       "        vertical-align: middle;\n",
       "    }\n",
       "\n",
       "    .dataframe tbody tr th {\n",
       "        vertical-align: top;\n",
       "    }\n",
       "\n",
       "    .dataframe thead th {\n",
       "        text-align: right;\n",
       "    }\n",
       "</style>\n",
       "<table border=\"1\" class=\"dataframe\">\n",
       "  <thead>\n",
       "    <tr style=\"text-align: right;\">\n",
       "      <th></th>\n",
       "      <th>date</th>\n",
       "      <th>home_team</th>\n",
       "      <th>away_team</th>\n",
       "      <th>winner</th>\n",
       "      <th>first_shooter</th>\n",
       "    </tr>\n",
       "  </thead>\n",
       "  <tbody>\n",
       "    <tr>\n",
       "      <th>0</th>\n",
       "      <td>1967-08-22</td>\n",
       "      <td>India</td>\n",
       "      <td>Taiwan</td>\n",
       "      <td>Taiwan</td>\n",
       "      <td>NaN</td>\n",
       "    </tr>\n",
       "    <tr>\n",
       "      <th>1</th>\n",
       "      <td>1971-11-14</td>\n",
       "      <td>South Korea</td>\n",
       "      <td>Vietnam Republic</td>\n",
       "      <td>South Korea</td>\n",
       "      <td>NaN</td>\n",
       "    </tr>\n",
       "    <tr>\n",
       "      <th>2</th>\n",
       "      <td>1972-05-07</td>\n",
       "      <td>South Korea</td>\n",
       "      <td>Iraq</td>\n",
       "      <td>Iraq</td>\n",
       "      <td>NaN</td>\n",
       "    </tr>\n",
       "    <tr>\n",
       "      <th>3</th>\n",
       "      <td>1972-05-17</td>\n",
       "      <td>Thailand</td>\n",
       "      <td>South Korea</td>\n",
       "      <td>South Korea</td>\n",
       "      <td>NaN</td>\n",
       "    </tr>\n",
       "    <tr>\n",
       "      <th>4</th>\n",
       "      <td>1972-05-19</td>\n",
       "      <td>Thailand</td>\n",
       "      <td>Cambodia</td>\n",
       "      <td>Thailand</td>\n",
       "      <td>NaN</td>\n",
       "    </tr>\n",
       "  </tbody>\n",
       "</table>\n",
       "</div>"
      ],
      "text/plain": [
       "         date    home_team         away_team       winner first_shooter\n",
       "0  1967-08-22        India            Taiwan       Taiwan           NaN\n",
       "1  1971-11-14  South Korea  Vietnam Republic  South Korea           NaN\n",
       "2  1972-05-07  South Korea              Iraq         Iraq           NaN\n",
       "3  1972-05-17     Thailand       South Korea  South Korea           NaN\n",
       "4  1972-05-19     Thailand          Cambodia     Thailand           NaN"
      ]
     },
     "execution_count": 5,
     "metadata": {},
     "output_type": "execute_result"
    }
   ],
   "source": [
    "shootouts.head()"
   ]
  },
  {
   "cell_type": "code",
   "execution_count": 6,
   "id": "4b7166e1",
   "metadata": {},
   "outputs": [
    {
     "name": "stdout",
     "output_type": "stream",
     "text": [
      "<class 'pandas.core.frame.DataFrame'>\n",
      "RangeIndex: 44362 entries, 0 to 44361\n",
      "Data columns (total 8 columns):\n",
      " #   Column     Non-Null Count  Dtype  \n",
      "---  ------     --------------  -----  \n",
      " 0   date       44362 non-null  object \n",
      " 1   home_team  44362 non-null  object \n",
      " 2   away_team  44362 non-null  object \n",
      " 3   team       44362 non-null  object \n",
      " 4   scorer     44313 non-null  object \n",
      " 5   minute     44103 non-null  float64\n",
      " 6   own_goal   44362 non-null  bool   \n",
      " 7   penalty    44362 non-null  bool   \n",
      "dtypes: bool(2), float64(1), object(5)\n",
      "memory usage: 2.1+ MB\n"
     ]
    }
   ],
   "source": [
    "goalscorers.info()"
   ]
  },
  {
   "cell_type": "code",
   "execution_count": 7,
   "id": "897b11e7",
   "metadata": {},
   "outputs": [
    {
     "name": "stdout",
     "output_type": "stream",
     "text": [
      "<class 'pandas.core.frame.DataFrame'>\n",
      "RangeIndex: 47777 entries, 0 to 47776\n",
      "Data columns (total 9 columns):\n",
      " #   Column      Non-Null Count  Dtype \n",
      "---  ------      --------------  ----- \n",
      " 0   date        47777 non-null  object\n",
      " 1   home_team   47777 non-null  object\n",
      " 2   away_team   47777 non-null  object\n",
      " 3   home_score  47777 non-null  int64 \n",
      " 4   away_score  47777 non-null  int64 \n",
      " 5   tournament  47777 non-null  object\n",
      " 6   city        47777 non-null  object\n",
      " 7   country     47777 non-null  object\n",
      " 8   neutral     47777 non-null  bool  \n",
      "dtypes: bool(1), int64(2), object(6)\n",
      "memory usage: 3.0+ MB\n"
     ]
    }
   ],
   "source": [
    "results.info()"
   ]
  },
  {
   "cell_type": "code",
   "execution_count": 8,
   "id": "ae48b255",
   "metadata": {},
   "outputs": [
    {
     "name": "stdout",
     "output_type": "stream",
     "text": [
      "<class 'pandas.core.frame.DataFrame'>\n",
      "RangeIndex: 645 entries, 0 to 644\n",
      "Data columns (total 5 columns):\n",
      " #   Column         Non-Null Count  Dtype \n",
      "---  ------         --------------  ----- \n",
      " 0   date           645 non-null    object\n",
      " 1   home_team      645 non-null    object\n",
      " 2   away_team      645 non-null    object\n",
      " 3   winner         645 non-null    object\n",
      " 4   first_shooter  230 non-null    object\n",
      "dtypes: object(5)\n",
      "memory usage: 25.3+ KB\n"
     ]
    }
   ],
   "source": [
    "shootouts.info()"
   ]
  },
  {
   "cell_type": "code",
   "execution_count": 9,
   "id": "e2db1b3b",
   "metadata": {},
   "outputs": [
    {
     "name": "stdout",
     "output_type": "stream",
     "text": [
      "Lunar New Year Cup              1.000000\n",
      "King's Cup                      1.000000\n",
      "Brazil Independence Cup         0.750000\n",
      "Confederations Cup              0.696970\n",
      "Pan American Championship       0.687500\n",
      "Copa Oswaldo Cruz               0.687500\n",
      "FIFA World Cup                  0.666667\n",
      "FIFA World Cup qualification    0.635036\n",
      "Atlantic Cup                    0.600000\n",
      "Copa Bernardo O'Higgins         0.600000\n",
      "Gold Cup                        0.571429\n",
      "Copa América                    0.558974\n",
      "Rous Cup                        0.500000\n",
      "Superclásico de las Américas    0.500000\n",
      "Copa Roca                       0.478261\n",
      "Copa Rio Branco                 0.444444\n",
      "Mundialito                      0.333333\n",
      "Tournoi de France               0.333333\n",
      "USA Cup                         0.333333\n",
      "Name: tournament, dtype: float64\n"
     ]
    },
    {
     "name": "stderr",
     "output_type": "stream",
     "text": [
      "C:\\Users\\migue\\AppData\\Local\\Temp\\ipykernel_3812\\4112361266.py:4: SettingWithCopyWarning: \n",
      "A value is trying to be set on a copy of a slice from a DataFrame.\n",
      "Try using .loc[row_indexer,col_indexer] = value instead\n",
      "\n",
      "See the caveats in the documentation: https://pandas.pydata.org/pandas-docs/stable/user_guide/indexing.html#returning-a-view-versus-a-copy\n",
      "  brasil_resultado['winner'] = 'Draw'\n"
     ]
    }
   ],
   "source": [
    "# Resposta 1: Lunar New Year Cup & King's Cup  \n",
    "brasil_resultado = results[(results['home_team'] == 'Brazil') | (results['away_team'] == 'Brazil')]\n",
    "\n",
    "brasil_resultado['winner'] = 'Draw'\n",
    "brasil_resultado.loc[brasil_resultado['home_score'] > brasil_resultado['away_score'], 'winner'] = brasil_resultado['home_team']\n",
    "brasil_resultado.loc[brasil_resultado['away_score'] > brasil_resultado['home_score'], 'winner'] = brasil_resultado['away_team']\n",
    "\n",
    "brasil_internacional = brasil_resultado[brasil_resultado['tournament'] != 'Friendly']\n",
    "\n",
    "jogo_total_competicao = brasil_internacional['tournament'].value_counts()\n",
    "\n",
    "brasil_vitoria = brasil_internacional[brasil_internacional['winner'] == 'Brazil']\n",
    "vitoria_competicao = brasil_vitoria['tournament'].value_counts()\n",
    "\n",
    "brasil_vitoria_pp = vitoria_competicao / jogo_total_competicao\n",
    "\n",
    "brasil_mais_vitoria = brasil_vitoria_pp.sort_values(ascending=False)\n",
    "\n",
    "print(brasil_mais_vitoria)"
   ]
  },
  {
   "cell_type": "code",
   "execution_count": 10,
   "id": "fe02a8fa",
   "metadata": {},
   "outputs": [
    {
     "name": "stdout",
     "output_type": "stream",
     "text": [
      "                           tournament       winner  win_count\n",
      "3                     ABCS Tournament     Suriname          7\n",
      "10                      AFC Asian Cup         Iran         45\n",
      "45        AFC Asian Cup qualification         Iran         36\n",
      "94                  AFC Challenge Cup  North Korea         11\n",
      "115   AFC Challenge Cup qualification  Philippines          7\n",
      "...                               ...          ...        ...\n",
      "1855                   Viva World Cup      Padania         13\n",
      "1864                WAFF Championship         Iran         19\n",
      "1878                 West African Cup        Ghana         16\n",
      "1885      Windward Islands Tournament      Grenada         25\n",
      "1889                  World Unity Cup  Tamil Eelam          2\n",
      "\n",
      "[169 rows x 3 columns]\n"
     ]
    }
   ],
   "source": [
    "# Pergunta 2:\n",
    "results['winner'] = 'Draw'\n",
    "results.loc[results['home_score'] > results['away_score'], 'winner'] = results['home_team']\n",
    "results.loc[results['away_score'] > results['home_score'], 'winner'] = results['away_team']\n",
    "\n",
    "results_international = results[results['tournament'] != 'Friendly']\n",
    "\n",
    "vitoria_time_competicao = results_international[results_international['winner'] != 'Draw'].groupby(['tournament', 'winner']\n",
    ").size().reset_index(name='win_count')\n",
    "\n",
    "vitoria_competicao = vitoria_time_competicao.loc[vitoria_time_competicao.groupby('tournament')['win_count'].idxmax()]\n",
    "\n",
    "print(vitoria_competicao)"
   ]
  },
  {
   "cell_type": "code",
   "execution_count": 15,
   "id": "5969efef",
   "metadata": {},
   "outputs": [
    {
     "name": "stderr",
     "output_type": "stream",
     "text": [
      "C:\\Users\\migue\\AppData\\Local\\Temp\\ipykernel_3812\\653370359.py:2: SettingWithCopyWarning: \n",
      "A value is trying to be set on a copy of a slice from a DataFrame.\n",
      "Try using .loc[row_indexer,col_indexer] = value instead\n",
      "\n",
      "See the caveats in the documentation: https://pandas.pydata.org/pandas-docs/stable/user_guide/indexing.html#returning-a-view-versus-a-copy\n",
      "  brasil_resultado['decade'] = pd.to_datetime(brasil_resultado['date']).dt.year // 10 * 10\n"
     ]
    },
    {
     "data": {
      "image/png": "[encoded data removed]",
      "text/plain": [
       "<Figure size 1000x600 with 1 Axes>"
      ]
     },
     "metadata": {},
     "output_type": "display_data"
    }
   ],
   "source": [
    "# Pergunta 3: Década de 2010\n",
    "brasil_resultado['decade'] = pd.to_datetime(brasil_resultado['date']).dt.year // 10 * 10\n",
    "\n",
    "brasil_vitoria_decada = brasil_resultado[brasil_resultado['winner'] == 'Brazil'].groupby('decade').size()\n",
    "\n",
    "total_jogos_decada = brasil_resultado.groupby('decade').size()\n",
    "\n",
    "brasil_vitoria_pp = brasil_vitoria_decada / total_jogos_decada\n",
    "\n",
    "plt.figure(figsize=(10, 6))\n",
    "brasil_vitoria_pp.plot(kind='bar', color='green')\n",
    "plt.title('Índice de Vitórias do Brasil por Década c/ Amistosos', fontsize=16)\n",
    "plt.xlabel('Década', fontsize=14)\n",
    "plt.ylabel('Índice de Vitórias', fontsize=14)\n",
    "plt.bar_label(plt.gca().containers[0])\n",
    "plt.xticks(rotation=0)\n",
    "plt.show()"
   ]
  },
  {
   "cell_type": "code",
   "execution_count": 12,
   "id": "ef5147e3",
   "metadata": {},
   "outputs": [
    {
     "name": "stdout",
     "output_type": "stream",
     "text": [
      "O time que mais venceu o Brasil é a Argentina com 40 vitórias.\n"
     ]
    }
   ],
   "source": [
    "# Pergunta 4: Argentina\n",
    "brasil_derrota = brasil_resultado[(brasil_resultado['winner'] != 'Brazil') & (brasil_resultado['winner'] != 'Draw')]\n",
    "\n",
    "derrota_agrup_times = brasil_derrota['winner'].value_counts()\n",
    "\n",
    "time_mais_venceu_brasil = derrota_agrup_times.idxmax()\n",
    "\n",
    "contagem_vitorias = derrota_agrup_times.max()\n",
    "\n",
    "print(f\"O time que mais venceu o Brasil é a {time_mais_venceu_brasil} com {contagem_vitorias} vitórias.\")"
   ]
  },
  {
   "cell_type": "code",
   "execution_count": 13,
   "id": "8fd9bfc4",
   "metadata": {},
   "outputs": [
    {
     "name": "stdout",
     "output_type": "stream",
     "text": [
      "Neymar    8\n",
      "Name: scorer, dtype: int64\n"
     ]
    }
   ],
   "source": [
    "# Pergunta 5: Neymar\n",
    "brasil_penalti = goalscorers[(goalscorers['team'] == 'Brazil') & (goalscorers['penalty'] == True)]\n",
    "\n",
    "brasil_penalti_marcardor = brasil_penalti['scorer'].value_counts()\n",
    "\n",
    "print(brasil_penalti_marcardor.head(1))"
   ]
  },
  {
   "cell_type": "code",
   "execution_count": 14,
   "id": "1aa2edad",
   "metadata": {},
   "outputs": [
    {
     "data": {
      "image/png": "[encoded data removed]",
      "text/plain": [
       "<Figure size 1000x600 with 1 Axes>"
      ]
     },
     "metadata": {},
     "output_type": "display_data"
    }
   ],
   "source": [
    "# Pergunta 6: Paraguay; Chile; Argentina; Uruguay; Peru\n",
    "brasil_jogo_casa = brasil_resultado[brasil_resultado['home_team'] == 'Brazil']\n",
    "\n",
    "brasil_jogo_visitante = brasil_resultado[brasil_resultado['away_team'] == 'Brazil']\n",
    "\n",
    "gols_sofrido_casa = brasil_jogo_casa.groupby('away_team')['home_score'].sum()\n",
    "\n",
    "gols_sofrido_visitante = brasil_jogo_visitante.groupby('home_team')['away_score'].sum()\n",
    "\n",
    "total_gol_sofrido = gols_sofrido_casa.add(gols_sofrido_visitante, fill_value=0)\n",
    "\n",
    "top_5_times = total_gol_sofrido.sort_values(ascending=False).head(5)\n",
    "\n",
    "plt.figure(figsize=(10, 6))\n",
    "top_5_times.plot(kind='bar', color='green')\n",
    "plt.title('Times que Mais Tomaram Gols do Brasil', fontsize=16)\n",
    "plt.xlabel('Times Adversários', fontsize=14)\n",
    "plt.ylabel('Total de Gols Sofridos', fontsize=14)\n",
    "plt.bar_label(plt.gca().containers[0])\n",
    "plt.xticks(rotation=0)\n",
    "plt.show()"
   ]
  },
  {
   "cell_type": "code",
   "execution_count": null,
   "id": "75fb6301",
   "metadata": {},
   "outputs": [],
   "source": []
  }
 ],
 "metadata": {
  "kernelspec": {
   "display_name": "Python 3 (ipykernel)",
   "language": "python",
   "name": "python3"
  },
  "language_info": {
   "codemirror_mode": {
    "name": "ipython",
    "version": 3
   },
   "file_extension": ".py",
   "mimetype": "text/x-python",
   "name": "python",
   "nbconvert_exporter": "python",
   "pygments_lexer": "ipython3",
   "version": "3.9.13"
  }
 },
 "nbformat": 4,
 "nbformat_minor": 5
}
